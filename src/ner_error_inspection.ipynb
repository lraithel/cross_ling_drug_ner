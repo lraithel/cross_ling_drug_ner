{
 "cells": [
  {
   "cell_type": "code",
   "execution_count": 1,
   "id": "34c1f863",
   "metadata": {},
   "outputs": [],
   "source": [
    "import pandas as pd\n",
    "from error_analysis import main\n",
    "import os\n",
    "from IPython.display import display, HTML"
   ]
  },
  {
   "cell_type": "code",
   "execution_count": 2,
   "id": "64483f95",
   "metadata": {},
   "outputs": [],
   "source": [
    "gold_dir = \"/home/lisa/projects/cross_ling_drug_ner/data/converted/by_language/de/test/\"\n",
    "predicted_dir = \"/home/lisa/projects/cross_ling_drug_ner/models_ensembled/mono_de/mono_de_models_with_preds_ensembled/ensemble/\"\n",
    "results_dir = \"/\".join(predicted_dir.split(\"/\")[:-1])"
   ]
  },
  {
   "cell_type": "code",
   "execution_count": 3,
   "id": "4a955fcf",
   "metadata": {},
   "outputs": [
    {
     "ename": "KeyError",
     "evalue": "'T2'",
     "output_type": "error",
     "traceback": [
      "\u001b[0;31m---------------------------------------------------------------------------\u001b[0m",
      "\u001b[0;31mKeyError\u001b[0m                                  Traceback (most recent call last)",
      "Input \u001b[0;32mIn [3]\u001b[0m, in \u001b[0;36m<cell line: 1>\u001b[0;34m()\u001b[0m\n\u001b[0;32m----> 1\u001b[0m df_strict, df_lenient \u001b[38;5;241m=\u001b[39m \u001b[43mmain\u001b[49m\u001b[43m(\u001b[49m\u001b[43mgold_dir\u001b[49m\u001b[43m,\u001b[49m\u001b[43m \u001b[49m\u001b[43mpredicted_dir\u001b[49m\u001b[43m,\u001b[49m\u001b[43m \u001b[49m\u001b[43mverbose\u001b[49m\u001b[38;5;241;43m=\u001b[39;49m\u001b[38;5;28;43;01mFalse\u001b[39;49;00m\u001b[43m,\u001b[49m\u001b[43m \u001b[49m\u001b[43mnum_examples\u001b[49m\u001b[38;5;241;43m=\u001b[39;49m\u001b[38;5;124;43m\"\u001b[39;49m\u001b[38;5;124;43mall\u001b[39;49m\u001b[38;5;124;43m\"\u001b[39;49m\u001b[43m)\u001b[49m\n",
      "File \u001b[0;32m~/projects/cross_ling_drug_ner/src/brat_eval.py:719\u001b[0m, in \u001b[0;36mmain\u001b[0;34m(f1, f2, verbose, num_examples)\u001b[0m\n\u001b[1;32m    718\u001b[0m \u001b[38;5;28;01mdef\u001b[39;00m \u001b[38;5;21mmain\u001b[39m(f1, f2, verbose, num_examples\u001b[38;5;241m=\u001b[39m\u001b[38;5;124m\"\u001b[39m\u001b[38;5;124mall\u001b[39m\u001b[38;5;124m\"\u001b[39m):\n\u001b[0;32m--> 719\u001b[0m     corpora \u001b[38;5;241m=\u001b[39m \u001b[43mCorpora\u001b[49m\u001b[43m(\u001b[49m\u001b[43mf1\u001b[49m\u001b[43m,\u001b[49m\u001b[43m \u001b[49m\u001b[43mf2\u001b[49m\u001b[43m,\u001b[49m\u001b[43m \u001b[49m\u001b[43mnum_examples\u001b[49m\u001b[38;5;241;43m=\u001b[39;49m\u001b[43mnum_examples\u001b[49m\u001b[43m)\u001b[49m\n\u001b[1;32m    720\u001b[0m     \u001b[38;5;28;01mif\u001b[39;00m corpora\u001b[38;5;241m.\u001b[39mdocs:\n\u001b[1;32m    721\u001b[0m         df_strict, df_lenient \u001b[38;5;241m=\u001b[39m evaluate(corpora, verbose\u001b[38;5;241m=\u001b[39mverbose)\n",
      "File \u001b[0;32m~/projects/cross_ling_drug_ner/src/brat_eval.py:517\u001b[0m, in \u001b[0;36mCorpora.__init__\u001b[0;34m(self, folder1, folder2, num_examples)\u001b[0m\n\u001b[1;32m    515\u001b[0m \u001b[38;5;28mself\u001b[39m\u001b[38;5;241m.\u001b[39mdocs \u001b[38;5;241m=\u001b[39m []\n\u001b[1;32m    516\u001b[0m \u001b[38;5;28;01mfor\u001b[39;00m file \u001b[38;5;129;01min\u001b[39;00m common_files:\n\u001b[0;32m--> 517\u001b[0m     g \u001b[38;5;241m=\u001b[39m \u001b[43mRecordTrack1\u001b[49m\u001b[43m(\u001b[49m\u001b[43mos\u001b[49m\u001b[38;5;241;43m.\u001b[39;49m\u001b[43mpath\u001b[49m\u001b[38;5;241;43m.\u001b[39;49m\u001b[43mjoin\u001b[49m\u001b[43m(\u001b[49m\u001b[38;5;28;43mself\u001b[39;49m\u001b[38;5;241;43m.\u001b[39;49m\u001b[43mfolder1\u001b[49m\u001b[43m,\u001b[49m\u001b[43m \u001b[49m\u001b[43mfile\u001b[49m\u001b[43m)\u001b[49m\u001b[43m)\u001b[49m\n\u001b[1;32m    518\u001b[0m     s \u001b[38;5;241m=\u001b[39m RecordTrack1(os\u001b[38;5;241m.\u001b[39mpath\u001b[38;5;241m.\u001b[39mjoin(\u001b[38;5;28mself\u001b[39m\u001b[38;5;241m.\u001b[39mfolder2, file))\n\u001b[1;32m    519\u001b[0m     \u001b[38;5;28mself\u001b[39m\u001b[38;5;241m.\u001b[39mdocs\u001b[38;5;241m.\u001b[39mappend((g, s))\n",
      "File \u001b[0;32m~/projects/cross_ling_drug_ner/src/brat_eval.py:98\u001b[0m, in \u001b[0;36mRecordTrack1.__init__\u001b[0;34m(self, file_path)\u001b[0m\n\u001b[1;32m     96\u001b[0m \u001b[38;5;28mself\u001b[39m\u001b[38;5;241m.\u001b[39mpath \u001b[38;5;241m=\u001b[39m os\u001b[38;5;241m.\u001b[39mpath\u001b[38;5;241m.\u001b[39mabspath(file_path)\n\u001b[1;32m     97\u001b[0m \u001b[38;5;28mself\u001b[39m\u001b[38;5;241m.\u001b[39mbasename \u001b[38;5;241m=\u001b[39m os\u001b[38;5;241m.\u001b[39mpath\u001b[38;5;241m.\u001b[39mbasename(\u001b[38;5;28mself\u001b[39m\u001b[38;5;241m.\u001b[39mpath)\n\u001b[0;32m---> 98\u001b[0m \u001b[38;5;28mself\u001b[39m\u001b[38;5;241m.\u001b[39mannotations \u001b[38;5;241m=\u001b[39m \u001b[38;5;28;43mself\u001b[39;49m\u001b[38;5;241;43m.\u001b[39;49m\u001b[43m_get_annotations\u001b[49m\u001b[43m(\u001b[49m\u001b[43m)\u001b[49m\n",
      "File \u001b[0;32m~/projects/cross_ling_drug_ner/src/brat_eval.py:162\u001b[0m, in \u001b[0;36mRecordTrack1._get_annotations\u001b[0;34m(self)\u001b[0m\n\u001b[1;32m    160\u001b[0m attr_id, attr_m \u001b[38;5;241m=\u001b[39m line\u001b[38;5;241m.\u001b[39mstrip()\u001b[38;5;241m.\u001b[39msplit(\u001b[38;5;124m\"\u001b[39m\u001b[38;5;130;01m\\t\u001b[39;00m\u001b[38;5;124m\"\u001b[39m)\n\u001b[1;32m    161\u001b[0m attr_type, attr_arg, attr_val \u001b[38;5;241m=\u001b[39m attr_m\u001b[38;5;241m.\u001b[39msplit(\u001b[38;5;124m\"\u001b[39m\u001b[38;5;124m \u001b[39m\u001b[38;5;124m\"\u001b[39m)\n\u001b[0;32m--> 162\u001b[0m arg1 \u001b[38;5;241m=\u001b[39m annotations[\u001b[38;5;124m\"\u001b[39m\u001b[38;5;124mtags\u001b[39m\u001b[38;5;124m\"\u001b[39m][\u001b[43me_t_mapper\u001b[49m\u001b[43m[\u001b[49m\u001b[43mattr_arg\u001b[49m\u001b[43m]\u001b[49m]\n\u001b[1;32m    163\u001b[0m annotations[\u001b[38;5;124m\"\u001b[39m\u001b[38;5;124mattributes\u001b[39m\u001b[38;5;124m\"\u001b[39m][attr_id] \u001b[38;5;241m=\u001b[39m Attribute(\n\u001b[1;32m    164\u001b[0m     attr_id, arg1, attr_type, attr_val\n\u001b[1;32m    165\u001b[0m )\n\u001b[1;32m    166\u001b[0m \u001b[38;5;28;01mif\u001b[39;00m attr_arg \u001b[38;5;129;01mnot\u001b[39;00m \u001b[38;5;129;01min\u001b[39;00m attribute_mapper:\n",
      "\u001b[0;31mKeyError\u001b[0m: 'T2'"
     ]
    }
   ],
   "source": [
    "df_strict, df_lenient = main(gold_dir, predicted_dir, verbose=False, num_examples=\"all\")"
   ]
  },
  {
   "cell_type": "code",
   "execution_count": null,
   "id": "79e1559b",
   "metadata": {},
   "outputs": [],
   "source": [
    "\n",
    "def highlight_selected_text(entity, text):\n",
    "    return text.replace(entity, f'<span style=\"color: green; font-weight: bold\">{entity}</span>')\n",
    "\n",
    "def get_unique_entites(false_entities, file_names):\n",
    "    unique = set()\n",
    "    errors_per_file = []\n",
    "    for file_name, l in zip(file_names, false_entities):\n",
    "        if not l:\n",
    "            continue\n",
    "        with open(os.path.join(gold_dir, file_name.replace(\".ann\", \".txt\")), \"r\") as read_handle:\n",
    "            text = read_handle.read()\n",
    "        for element in l:\n",
    "            unique.add(element[0])\n",
    "            errors_per_file.append({\"file\": file_name, \n",
    "                                    \"entity\": element[0], \n",
    "                                    \"start\": element[1], \n",
    "                                    \"end\": element[2],\n",
    "                                    \"sentence_h\": highlight_selected_text(entity=element[0],\n",
    "                                                                          text=\"...\" + text[element[1] - 200: \\\n",
    "                                                                                          element[2] + 200] + \"...\"),\n",
    "                                    \"sentence\": \"...\" + text[element[1] - 200: element[2] + 200] + \"...\" \n",
    "                                   })\n",
    "    \n",
    "    return unique, pd.DataFrame(errors_per_file).sort_values(\"file\").reset_index(drop=True)\n",
    "\n",
    "def clean_up_dfs(df):\n",
    "    # sort the dataframe by file name\n",
    "    df = df.sort_values(\"file\").reset_index(drop=True)\n",
    "    \n",
    "    # convert FP and FN columns to list and then to their own DFs\n",
    "    fps = df['FP'].tolist()\n",
    "    unique_fps, fps_per_file = get_unique_entites(fps, list(df[\"file\"]))\n",
    "    fns = df['FN'].tolist()\n",
    "    unique_fns, fns_per_file = get_unique_entites(fns, list(df[\"file\"]))\n",
    "    \n",
    "    df_fp = pd.DataFrame(fps, index=df.index).add_prefix('FP')\n",
    "    df_fn = pd.DataFrame(fns, index=df.index).add_prefix('FN')\n",
    "    \n",
    "    # remove the old FP and FN columns and concatenate the three DFs\n",
    "    df = pd.concat([df.drop(columns=['FP', \"FN\"]), df_fp, df_fn], axis=1)\n",
    "    \n",
    "    df = df.round(2)\n",
    " \n",
    "    return df, unique_fps, unique_fns, fps_per_file, fns_per_file"
   ]
  },
  {
   "cell_type": "code",
   "execution_count": null,
   "id": "f74c92ec",
   "metadata": {},
   "outputs": [],
   "source": [
    "df_strict, unique_fps_strict, unique_fns_strict, fps_per_file_strict, fns_per_file_strict = clean_up_dfs(df_strict)\n",
    "df_lenient, unique_fps_lenient, unique_fns_lenient, fps_per_file_lenient, fns_per_file_lenient = clean_up_dfs(df_lenient)"
   ]
  },
  {
   "cell_type": "code",
   "execution_count": null,
   "id": "8a6aea5e",
   "metadata": {},
   "outputs": [],
   "source": [
    "print(f\"max #false negatives: {df_strict['#FN'].max()}\")\n",
    "print(f\"max #false positives: {df_strict['#FP'].max()}\")\n",
    "print(f\"max #gold entities: {df_strict['#gold_entities'].max()}\")"
   ]
  },
  {
   "cell_type": "code",
   "execution_count": null,
   "id": "e00c2072",
   "metadata": {
    "scrolled": false
   },
   "outputs": [],
   "source": [
    "fns_per_file_lenient_csv = fns_per_file_lenient.drop(columns=\"sentence_h\")\n",
    "fns_per_file_lenient_html = fns_per_file_lenient.drop(columns=\"sentence\")\n",
    "\n",
    "fns_per_file_lenient_html.style.set_sticky(axis=\"index\")\n",
    "html_table = fns_per_file_lenient_html.to_html(escape=False)\n",
    "display(HTML(html_table))"
   ]
  },
  {
   "cell_type": "code",
   "execution_count": null,
   "id": "867d9a6f",
   "metadata": {
    "scrolled": false
   },
   "outputs": [],
   "source": [
    "fps_per_file_lenient_csv = fps_per_file_lenient.drop(columns=\"sentence_h\")\n",
    "fps_per_file_lenient_html = fps_per_file_lenient.drop(columns=\"sentence\")\n",
    "\n",
    "fps_per_file_lenient_html.style.set_sticky(axis=\"index\")\n",
    "html_table = fps_per_file_lenient_html.to_html(escape=False)\n",
    "display(HTML(html_table))"
   ]
  },
  {
   "cell_type": "code",
   "execution_count": null,
   "id": "5dceda5b",
   "metadata": {
    "scrolled": true
   },
   "outputs": [],
   "source": [
    "# FN = entities that were not detected by sys\n",
    "fns_per_file_strict_csv = fns_per_file_strict.drop(columns=\"sentence_h\")\n",
    "#.to_csv(os.path.join(results_dir, \"fns_strict.csv\"))\n",
    "fns_per_file_strict_html = fns_per_file_strict.drop(columns=\"sentence\")\n",
    "\n",
    "fns_per_file_strict_html.style.set_sticky(axis=\"index\")\n",
    "html_table = fns_per_file_strict_html.to_html(escape=False)\n",
    "display(HTML(html_table))"
   ]
  },
  {
   "cell_type": "code",
   "execution_count": null,
   "id": "daa1f961",
   "metadata": {
    "scrolled": true
   },
   "outputs": [],
   "source": [
    "# FP = entities that were detected by sys but are not gold\n",
    "\n",
    "fps_per_file_strict_csv = fps_per_file_strict.drop(columns=\"sentence_h\")\n",
    "#.to_csv(os.path.join(results_dir,\"fps_strict.csv\"))\n",
    "fps_per_file_strict_html = fps_per_file_strict.drop(columns=\"sentence\")\n",
    "\n",
    "fps_per_file_strict_html.style.set_sticky(axis=\"index\")\n",
    "html_table = fps_per_file_strict_html.to_html(escape=False)\n",
    "display(HTML(html_table))"
   ]
  },
  {
   "cell_type": "code",
   "execution_count": null,
   "id": "c380f21e",
   "metadata": {},
   "outputs": [],
   "source": [
    "#table = pd.read_html(html_table)[0] \n",
    "# Store the dataframe in Excel file\n",
    "#table.to_excel(\"test_table.xlsx\")"
   ]
  },
  {
   "cell_type": "code",
   "execution_count": null,
   "id": "40a58abc",
   "metadata": {},
   "outputs": [],
   "source": [
    "df_strict"
   ]
  },
  {
   "cell_type": "code",
   "execution_count": null,
   "id": "a31880e2",
   "metadata": {},
   "outputs": [],
   "source": [
    "unique_xps = {\"unique_fps_strict\": pd.Series(sorted(list(unique_fps_strict))), \"unique_fps_lenient\": pd.Series(sorted(list(unique_fps_lenient))),\n",
    "              \"unique_fns_strict\": pd.Series(sorted(list(unique_fns_strict))), \"unique_fns_lenient\": pd.Series(sorted(list(unique_fns_lenient)))}\n",
    "unique_xps_df = pd.DataFrame(unique_xps)\n",
    "unique_xps_df"
   ]
  },
  {
   "cell_type": "code",
   "execution_count": null,
   "id": "425dae5b",
   "metadata": {},
   "outputs": [],
   "source": [
    "# df_strict.to_csv(os.path.join(results_dir, \"results_ner_strict.csv\"))"
   ]
  },
  {
   "cell_type": "code",
   "execution_count": null,
   "id": "655a7b17",
   "metadata": {},
   "outputs": [],
   "source": [
    "# df_lenient.to_csv(os.path.join(results_dir, \"results_ner_lenient.csv\"))"
   ]
  },
  {
   "cell_type": "markdown",
   "id": "8dc17e74",
   "metadata": {},
   "source": [
    "- find error groups\n",
    "- collect drugs that were not detected (those + drugs from the list could be added in postprocessing step)\n",
    "- find FNs that were not detected by strict, but by lenient\n",
    "- check if we can combine words separated by \"/\"\n",
    "- get gold annotation and check overlaps with false positives"
   ]
  },
  {
   "cell_type": "code",
   "execution_count": null,
   "id": "5c1cb1a7",
   "metadata": {},
   "outputs": [],
   "source": [
    "# write everything to one excel with one sheet per dataframe\n",
    "\n",
    "def write_to_file():\n",
    "    if not os.path.exists(results_dir):\n",
    "        os.makedirs(results_dir)\n",
    "\n",
    "    writer = pd.ExcelWriter(os.path.join(results_dir, 'error_analysis_ner.xlsx'), engine='xlsxwriter')\n",
    "\n",
    "    df_strict.to_excel(writer, sheet_name='strict_overview')\n",
    "\n",
    "    df_lenient.to_excel(writer, sheet_name='lenient_overview')\n",
    "\n",
    "    fps_per_file_strict_csv.to_excel(writer, sheet_name='fps_strict')\n",
    "\n",
    "    fns_per_file_strict_csv.to_excel(writer, sheet_name='fns_strict')\n",
    "\n",
    "    fps_per_file_lenient_csv.to_excel(writer, sheet_name='fps_lenient')\n",
    "\n",
    "    fns_per_file_lenient_csv.to_excel(writer, sheet_name='fns_lenient')\n",
    "\n",
    "    unique_xps_df.to_excel(writer, sheet_name=\"unique_fps_fns\")\n",
    "    \n",
    "    writer.save()"
   ]
  },
  {
   "cell_type": "code",
   "execution_count": null,
   "id": "e0606cf8",
   "metadata": {},
   "outputs": [],
   "source": [
    "write_to_file()"
   ]
  },
  {
   "cell_type": "code",
   "execution_count": null,
   "id": "90801b7f",
   "metadata": {},
   "outputs": [],
   "source": [
    "#unique_fns_strict"
   ]
  },
  {
   "cell_type": "code",
   "execution_count": null,
   "id": "685acc0f",
   "metadata": {
    "scrolled": true
   },
   "outputs": [],
   "source": [
    "# FP = entities that were detected by sys but are not gold\n",
    "unique_fps_strict"
   ]
  },
  {
   "cell_type": "code",
   "execution_count": null,
   "id": "5456c7f2",
   "metadata": {},
   "outputs": [],
   "source": [
    "unique_fns_lenient"
   ]
  },
  {
   "cell_type": "code",
   "execution_count": null,
   "id": "ef1471f9",
   "metadata": {},
   "outputs": [],
   "source": [
    "unique_fps_lenient"
   ]
  },
  {
   "cell_type": "code",
   "execution_count": null,
   "id": "09f8f777",
   "metadata": {},
   "outputs": [],
   "source": []
  }
 ],
 "metadata": {
  "kernelspec": {
   "display_name": "drug_ner",
   "language": "python",
   "name": "drug_ner"
  },
  "language_info": {
   "codemirror_mode": {
    "name": "ipython",
    "version": 3
   },
   "file_extension": ".py",
   "mimetype": "text/x-python",
   "name": "python",
   "nbconvert_exporter": "python",
   "pygments_lexer": "ipython3",
   "version": "3.9.0"
  }
 },
 "nbformat": 4,
 "nbformat_minor": 5
}
