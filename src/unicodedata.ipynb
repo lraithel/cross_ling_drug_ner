{
 "cells": [
  {
   "cell_type": "code",
   "execution_count": 1,
   "id": "edff982f",
   "metadata": {},
   "outputs": [],
   "source": [
    "import unicodedata"
   ]
  },
  {
   "cell_type": "code",
   "execution_count": 2,
   "id": "a5991353",
   "metadata": {},
   "outputs": [],
   "source": [
    "string_1 = b\"\\xc2\\xb5mol\".decode(\"utf-8\")\n",
    "string_2 = b\"\\xce\\xbcmol\".decode(\"utf-8\")\n",
    "string_3 = \"µmol\""
   ]
  },
  {
   "cell_type": "code",
   "execution_count": 3,
   "id": "f139f91e",
   "metadata": {},
   "outputs": [
    {
     "data": {
      "text/plain": [
       "'µmol'"
      ]
     },
     "execution_count": 3,
     "metadata": {},
     "output_type": "execute_result"
    }
   ],
   "source": [
    "string_1"
   ]
  },
  {
   "cell_type": "code",
   "execution_count": 4,
   "id": "9084dd4e",
   "metadata": {},
   "outputs": [
    {
     "data": {
      "text/plain": [
       "'μmol'"
      ]
     },
     "execution_count": 4,
     "metadata": {},
     "output_type": "execute_result"
    }
   ],
   "source": [
    "unicodedata.normalize(\"NFKD\", string_1)"
   ]
  },
  {
   "cell_type": "code",
   "execution_count": 5,
   "id": "881ca72a",
   "metadata": {},
   "outputs": [
    {
     "data": {
      "text/plain": [
       "'μmol'"
      ]
     },
     "execution_count": 5,
     "metadata": {},
     "output_type": "execute_result"
    }
   ],
   "source": [
    "unicodedata.normalize(\"NFKD\", string_2)"
   ]
  },
  {
   "cell_type": "code",
   "execution_count": 6,
   "id": "7cf016df",
   "metadata": {},
   "outputs": [
    {
     "data": {
      "text/plain": [
       "'μmol'"
      ]
     },
     "execution_count": 6,
     "metadata": {},
     "output_type": "execute_result"
    }
   ],
   "source": [
    "unicodedata.normalize(\"NFKD\", string_3)"
   ]
  },
  {
   "cell_type": "code",
   "execution_count": 7,
   "id": "2016712e",
   "metadata": {},
   "outputs": [
    {
     "data": {
      "text/plain": [
       "True"
      ]
     },
     "execution_count": 7,
     "metadata": {},
     "output_type": "execute_result"
    }
   ],
   "source": [
    "unicodedata.normalize(\"NFKD\", string_1) == unicodedata.normalize(\"NFKD\", string_2)"
   ]
  },
  {
   "cell_type": "code",
   "execution_count": null,
   "id": "eb1a3bfd",
   "metadata": {},
   "outputs": [],
   "source": []
  }
 ],
 "metadata": {
  "kernelspec": {
   "display_name": "Python 3 (ipykernel)",
   "language": "python",
   "name": "python3"
  },
  "language_info": {
   "codemirror_mode": {
    "name": "ipython",
    "version": 3
   },
   "file_extension": ".py",
   "mimetype": "text/x-python",
   "name": "python",
   "nbconvert_exporter": "python",
   "pygments_lexer": "ipython3",
   "version": "3.10.6"
  }
 },
 "nbformat": 4,
 "nbformat_minor": 5
}
